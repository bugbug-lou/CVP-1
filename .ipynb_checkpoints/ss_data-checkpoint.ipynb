{
 "cells": [
  {
   "cell_type": "code",
   "execution_count": 1,
   "metadata": {},
   "outputs": [],
   "source": [
    "D_PATH = '/Volumes/T5/cvpdata/shapestacks'"
   ]
  },
  {
   "cell_type": "code",
   "execution_count": 2,
   "metadata": {},
   "outputs": [],
   "source": [
    "# --------------------------------------------------------\n",
    "# Written by Yufei Ye (https://github.com/JudyYe)\n",
    "# --------------------------------------------------------\n",
    "from __future__ import print_function\n",
    "\n",
    "import glob\n",
    "import os\n",
    "\n",
    "import numpy as np\n",
    "# import debug_init_paths\n",
    "import torch\n",
    "import torchvision.transforms as T\n",
    "from PIL import Image\n",
    "from torch.utils.data import Dataset, DataLoader\n",
    "\n",
    "from utils.data_utils import imagenet_preprocess, Resize"
   ]
  },
  {
   "cell_type": "code",
   "execution_count": 3,
   "metadata": {},
   "outputs": [],
   "source": [
    "class Dataset(object):\n",
    "    r\"\"\"An abstract class representing a :class:`Dataset`.\n",
    "\n",
    "    All datasets that represent a map from keys to data samples should subclass\n",
    "    it. All subclasses should overwrite :meth:`__getitem__`, supporting fetching a\n",
    "    data sample for a given key. Subclasses could also optionally overwrite\n",
    "    :meth:`__len__`, which is expected to return the size of the dataset by many\n",
    "    :class:`~torch.utils.data.Sampler` implementations and the default options\n",
    "    of :class:`~torch.utils.data.DataLoader`.\n",
    "\n",
    "    .. note::\n",
    "      :class:`~torch.utils.data.DataLoader` by default constructs a index\n",
    "      sampler that yields integral indices.  To make it work with a map-style\n",
    "      dataset with non-integral indices/keys, a custom sampler must be provided.\n",
    "    \"\"\"\n",
    "\n",
    "    def __getitem__(self, index):\n",
    "        raise NotImplementedError\n",
    "\n",
    "    def __add__(self, other):\n",
    "        return ConcatDataset([self, other])\n",
    "\n",
    "    # No `def __len__(self)` default?\n",
    "    # See NOTE [ Lack of Default `__len__` in Python Abstract Base Classes ]\n",
    "    # in pytorch/torch/utils/data/sampler.py"
   ]
  },
  {
   "cell_type": "code",
   "execution_count": 4,
   "metadata": {},
   "outputs": [],
   "source": [
    "class ShapeStacks(Dataset):\n",
    "    def __init__(self, image_dir, list_path, dt, radius, mod,\n",
    "                 normalize_images=True, max_samples=None, training=False):\n",
    "        Dataset.__init__(self)\n",
    "\n",
    "        self.RW = self.RH = self.W = self.H = 224\n",
    "        self.orig_W = self.orig_H = 224\n",
    "        self.box_rad = radius\n",
    "\n",
    "        self.image_dir = image_dir\n",
    "        self.ext = '.jpg'\n",
    "        self.max_samples = max_samples\n",
    "        self.dt = dt\n",
    "        self.num_obj = 0\n",
    "        self.training = training\n",
    "        self.modality = mod\n",
    "\n",
    "        transform = [Resize((self.H, self.W)), T.ToTensor()]\n",
    "        obj_transform = [Resize((self.RH, self.RW)), T.ToTensor()]\n",
    "        if normalize_images:\n",
    "            transform.append(imagenet_preprocess())\n",
    "            obj_transform.append(imagenet_preprocess())\n",
    "        self.transform = T.Compose(transform)\n",
    "        self.obj_transform = T.Compose(obj_transform)\n",
    "\n",
    "        with open(list_path) as fp:\n",
    "            self.index_list = [line.split()[0] for line in fp]\n",
    "        self.roidb = self.parse_gt_roidb()\n",
    "        eg_path = glob.glob(os.path.join(self.image_dir, self.index_list[0], self.modality + '*' + self.ext))[0]\n",
    "        self.image_pref = '-'.join(os.path.basename(eg_path).split('-')[0:-1])\n",
    "\n",
    "    def parse_gt_roidb(self):\n",
    "        roidb = {}\n",
    "        for index in self.index_list:\n",
    "            gt_path = os.path.join(self.image_dir, index, 'cam_1.npy')\n",
    "            bbox = np.load(gt_path) ## 32, 3, 2 in (0, 224) coor\n",
    "            roidb[index] = bbox\n",
    "            self.num_obj = bbox.shape[1]\n",
    "        return roidb\n",
    "\n",
    "    def __len__(self):\n",
    "        num = len(self.index_list)\n",
    "        if self.max_samples is not None:\n",
    "            return min(self.max_samples, num)\n",
    "        return num\n",
    "\n",
    "    def __getitem__(self, index):\n",
    "        \"\"\"\n",
    "        :return: src, dst. each is a list of object\n",
    "        - 'image': FloatTensor of shape (dt, C, H, W). resize and normalize to faster-rcnn\n",
    "        - 'crop': (O, C, RH, RW) RH >= 224\n",
    "        - 'bbox': (O, 4) in xyxy (0-1) / xy logw logh\n",
    "        - 'trip': (T, 3)\n",
    "        - 'index': (dt,)\n",
    "        \"\"\"\n",
    "        vid_point = []\n",
    "        for dt in range(self.dt):\n",
    "            this_index = self.get_index_after(self.index_list[index], dt)\n",
    "            vid_obj = {}\n",
    "            norm_bbox = self.roidb[self.index_list[index]][dt] # (O, 2)\n",
    "            bboxes = np.vstack((norm_bbox[:, 0] * self.orig_W, norm_bbox[:, 1] * self.orig_H)).T\n",
    "            image, crops = self._read_image(this_index, bboxes)\n",
    "\n",
    "            trip = self._build_graph(this_index)\n",
    "            vid_obj['index'] = this_index\n",
    "            vid_obj['image'] = image\n",
    "            vid_obj['crop'] = crops\n",
    "            vid_obj['bbox'] = torch.FloatTensor(norm_bbox)\n",
    "            vid_obj['trip'] = trip\n",
    "            valid = np.arange(3, dtype=np.int64)\n",
    "            vid_obj['info'] = (self.orig_W, self.orig_H, valid)\n",
    "            vid_obj['valid'] = torch.LongTensor(valid)\n",
    "\n",
    "            vid_point.append(vid_obj)\n",
    "        return vid_point\n",
    "\n",
    "    def get_index_after(self, index, dt):\n",
    "        return os.path.join(index, self.image_pref + '-%02d' % dt)\n",
    "\n",
    "    def _read_image(self, index, bboxes):\n",
    "        image_path = os.path.join(self.image_dir, index) + self.ext\n",
    "        with open(image_path, 'rb') as f:\n",
    "            with Image.open(f) as image:\n",
    "                dst_image = self.transform(image.convert('RGB'))\n",
    "                crops = self._crop_image(index, image, bboxes)\n",
    "        return dst_image, crops\n",
    "\n",
    "    def _crop_image(self, index, image, box_center):\n",
    "        crop_obj = []\n",
    "        x1 = box_center[:, 0] - self.box_rad\n",
    "        y1 = box_center[:, 1] - self.box_rad\n",
    "        x2 = box_center[:, 0] + self.box_rad\n",
    "        y2 = box_center[:, 1] + self.box_rad\n",
    "        bbox = np.vstack((x1, y1, x2, y2)).transpose()\n",
    "        for d in range(len(box_center)):\n",
    "            crp = image.crop(bbox[d]).convert('RGB')\n",
    "            crp = self.transform(crp)\n",
    "            crop_obj.append(crp)\n",
    "        crop_obj = torch.stack(crop_obj)\n",
    "        return crop_obj\n",
    "\n",
    "    def _build_graph(self, index):\n",
    "        all_trip = np.zeros([0, 3], dtype=np.float32)\n",
    "        for i in range(self.num_obj):\n",
    "            for j in range(self.num_obj):\n",
    "                trip = [i, 0, j]\n",
    "                all_trip = np.vstack((all_trip, trip))\n",
    "        return torch.FloatTensor(all_trip)\n",
    "\n",
    "\n",
    "def dt_collate_fn(batch):\n",
    "    \"\"\"\n",
    "    :return: src dst. each is a list with dict element\n",
    "    - 'index': list of str with length N\n",
    "    - 'image': list of FloatTensor in shape (Dt, V, 1, C, H, W)\n",
    "    - 'crop': list of FloatTensor in shape (Dt, V, o, C, RH, RW)\n",
    "    - 'bbox': (Dt, V, o, 4)\n",
    "    - 'trip': (Dt, V, t, 3)\n",
    "    \"\"\"\n",
    "    key_set = ['index', 'image', 'crop', 'bbox', 'trip', 'valid']\n",
    "    all_batch = {}\n",
    "    dt = len(batch[0])\n",
    "    V = len(batch)\n",
    "    for key in key_set:\n",
    "        all_batch[key] = []\n",
    "\n",
    "    for f in range(dt):\n",
    "        for v in range(len(batch)):\n",
    "            frame = batch[v][f]\n",
    "            for key in key_set:\n",
    "                all_batch[key].append(frame[key])\n",
    "\n",
    "    for key in all_batch:\n",
    "        if key == 'index':\n",
    "            continue\n",
    "        if key in ['image', 'crop']:\n",
    "            tensor = torch.stack(all_batch[key])\n",
    "            all_batch[key] = tensor.view(dt, V, -1, 3, tensor.size(-2), tensor.size(-1))\n",
    "        elif key in ['bbox', 'trip', 'valid']:\n",
    "            tensor = torch.stack(all_batch[key])\n",
    "            all_batch[key] = tensor.view(dt, V, -1, tensor.size(-1))\n",
    "        else:\n",
    "            print('key not exist', key)\n",
    "            raise KeyError\n",
    "\n",
    "    return all_batch\n",
    "\n",
    "\n",
    "def build_vid_loaders(args):\n",
    "    dset_kwargs = {\n",
    "        'max_samples': None,\n",
    "        'dt': args.dt,\n",
    "        'radius': args.radius,\n",
    "        'training': args.is_train,\n",
    "        'mod': 'rgb' # args.modality\n",
    "    }\n",
    "    loader_kwargs = {\n",
    "        'batch_size': args.batch_size,\n",
    "        'num_workers': args.loader_num_workers,\n",
    "        'collate_fn': dt_collate_fn,\n",
    "    }\n",
    "\n",
    "    fov = 35\n",
    "    common_list = 'data/shapestacks/splits/'\n",
    "    dset_kwargs['image_dir'] = 'data/shapestacks/frc_%d/' % fov\n",
    "    if args.dataset in ['ss3']:\n",
    "        common_list = common_list + '/env_ccs+blocks-hard+easy-h=3-vcom=1+2+3-vpsf=0/'\n",
    "    else:\n",
    "        num = int(args.dataset[2])\n",
    "        common_list = common_list + '/env_ccs+blocks-hard+easy-h=%d-vcom=1+2+3+4+5+6-vpsf=0/' % num\n",
    "\n",
    "    dset_kwargs['training'] = args.is_train\n",
    "    if args.is_train:\n",
    "        dset_kwargs['list_path'] = common_list + 'train.txt'\n",
    "        loader_kwargs['shuffle'] = True\n",
    "    else:\n",
    "        print('val')\n",
    "        dset_kwargs['list_path'] = common_list + 'eval.txt'\n",
    "        dset_kwargs['max_samples'] = args.num_val_samples\n",
    "        loader_kwargs['shuffle'] = args.shuffle_val\n",
    "    if not os.path.exists(dset_kwargs['list_path']):\n",
    "        print('not exists', dset_kwargs['list_path'])\n",
    "        raise FileExistsError\n",
    "    train_dset = ShapeStacks(**dset_kwargs)\n",
    "\n",
    "    loader = DataLoader(train_dset, **loader_kwargs)\n",
    "\n",
    "    return loader\n"
   ]
  },
  {
   "cell_type": "code",
   "execution_count": 5,
   "metadata": {},
   "outputs": [],
   "source": [
    "key_set = ['index', 'image', 'crop', 'bbox', 'trip']"
   ]
  },
  {
   "cell_type": "code",
   "execution_count": 6,
   "metadata": {},
   "outputs": [],
   "source": [
    "dset_kwargs = {\n",
    "        'max_samples': None,\n",
    "        'dt': 16,\n",
    "        'radius': 35,\n",
    "        'training': True,\n",
    "        'mod': 'rgb' # args.modality\n",
    "    }\n",
    "dset_kwargs['image_dir'] = D_PATH + '/frc_%d/' % 35\n",
    "\n",
    "common_list = D_PATH + '/splits/'\n",
    "common_list = common_list + '/env_ccs+blocks-hard+easy-h=3-vcom=1+2+3-vpsf=0/'\n",
    "\n",
    "dset_kwargs['list_path'] = common_list + 'train.txt'\n",
    "dset_kwargs['list_path'] = common_list + 'train.txt'"
   ]
  },
  {
   "cell_type": "code",
   "execution_count": 7,
   "metadata": {},
   "outputs": [],
   "source": [
    "train_dset = ShapeStacks(**dset_kwargs)"
   ]
  },
  {
   "cell_type": "code",
   "execution_count": 8,
   "metadata": {},
   "outputs": [
    {
     "data": {
      "text/plain": [
       "<__main__.ShapeStacks at 0x131c5bf50>"
      ]
     },
     "execution_count": 8,
     "metadata": {},
     "output_type": "execute_result"
    }
   ],
   "source": [
    "train_dset"
   ]
  },
  {
   "cell_type": "code",
   "execution_count": 9,
   "metadata": {},
   "outputs": [],
   "source": [
    "from torch.utils.data import Dataset, DataLoader"
   ]
  },
  {
   "cell_type": "code",
   "execution_count": 45,
   "metadata": {},
   "outputs": [],
   "source": [
    "loader_kwargs = {\n",
    "        'batch_size': 1,\n",
    "        'num_workers': 7,\n",
    "    }\n",
    "loader_kwargs['shuffle'] = True\n",
    "\n",
    "loader = DataLoader(train_dset, **loader_kwargs)"
   ]
  },
  {
   "cell_type": "code",
   "execution_count": 46,
   "metadata": {},
   "outputs": [
    {
     "data": {
      "text/plain": [
       "<torch.utils.data.dataloader.DataLoader at 0x131dad2d0>"
      ]
     },
     "execution_count": 46,
     "metadata": {},
     "output_type": "execute_result"
    }
   ],
   "source": [
    "loader"
   ]
  },
  {
   "cell_type": "code",
   "execution_count": 47,
   "metadata": {},
   "outputs": [],
   "source": [
    "b = 0\n",
    "for idx, x in enumerate(loader):\n",
    "    if idx > 1: break\n",
    "    b = x"
   ]
  },
  {
   "cell_type": "code",
   "execution_count": 48,
   "metadata": {},
   "outputs": [],
   "source": [
    "set1 = b[0]"
   ]
  },
  {
   "cell_type": "code",
   "execution_count": 50,
   "metadata": {},
   "outputs": [
    {
     "data": {
      "text/plain": [
       "['info', 'index', 'image', 'crop', 'valid', 'bbox', 'trip']"
      ]
     },
     "execution_count": 50,
     "metadata": {},
     "output_type": "execute_result"
    }
   ],
   "source": [
    "set1.keys()"
   ]
  },
  {
   "cell_type": "code",
   "execution_count": 61,
   "metadata": {},
   "outputs": [
    {
     "data": {
      "text/plain": [
       "torch.Size([3, 224, 224])"
      ]
     },
     "execution_count": 61,
     "metadata": {},
     "output_type": "execute_result"
    }
   ],
   "source": [
    "image1 = set1['image']\n",
    "image1[0].Tshape"
   ]
  },
  {
   "cell_type": "code",
   "execution_count": 62,
   "metadata": {},
   "outputs": [
    {
     "data": {
      "image/png": "[encoded data removed]",
      "text/plain": [
       "<Figure size 432x288 with 1 Axes>"
      ]
     },
     "metadata": {
      "needs_background": "light"
     },
     "output_type": "display_data"
    }
   ],
   "source": [
    "import matplotlib.pyplot as plt\n",
    "plt.imshow(image1[0].T)\n",
    "plt.show()"
   ]
  },
  {
   "cell_type": "code",
   "execution_count": 70,
   "metadata": {},
   "outputs": [
    {
     "name": "stdout",
     "output_type": "stream",
     "text": [
      "torch.Size([1, 3, 3, 224, 224])\n"
     ]
    },
    {
     "data": {
      "image/png": "[encoded data removed]",
      "text/plain": [
       "<Figure size 432x288 with 1 Axes>"
      ]
     },
     "metadata": {
      "needs_background": "light"
     },
     "output_type": "display_data"
    },
    {
     "data": {
      "image/png": "[encoded data removed]",
      "text/plain": [
       "<Figure size 432x288 with 1 Axes>"
      ]
     },
     "metadata": {
      "needs_background": "light"
     },
     "output_type": "display_data"
    },
    {
     "data": {
      "image/png": "[encoded data removed]",
      "text/plain": [
       "<Figure size 432x288 with 1 Axes>"
      ]
     },
     "metadata": {
      "needs_background": "light"
     },
     "output_type": "display_data"
    }
   ],
   "source": [
    "crop1 = set1['crop']\n",
    "print(crop1.shape)\n",
    "for i in range(crop1.shape[1]):\n",
    "    plt.imshow(crop1[0][i].T)\n",
    "    plt.show()"
   ]
  },
  {
   "cell_type": "code",
   "execution_count": 74,
   "metadata": {},
   "outputs": [
    {
     "name": "stdout",
     "output_type": "stream",
     "text": [
      "torch.Size([1, 3, 2])\n"
     ]
    },
    {
     "data": {
      "text/plain": [
       "tensor([[[0.5108, 0.4432],\n",
       "         [0.5464, 0.5496],\n",
       "         [0.5427, 0.6965]]])"
      ]
     },
     "execution_count": 74,
     "metadata": {},
     "output_type": "execute_result"
    }
   ],
   "source": [
    "bbox1 = set1['bbox']\n",
    "print(bbox1.shape)\n",
    "bbox1"
   ]
  },
  {
   "cell_type": "code",
   "execution_count": 76,
   "metadata": {},
   "outputs": [
    {
     "data": {
      "text/plain": [
       "['env_blocks-easy-h=3-vcom=2-vpsf=0-v=148/rgb-cam_1-00']"
      ]
     },
     "execution_count": 76,
     "metadata": {},
     "output_type": "execute_result"
    }
   ],
   "source": [
    "index1 = set1['index']\n",
    "index1"
   ]
  },
  {
   "cell_type": "code",
   "execution_count": 81,
   "metadata": {},
   "outputs": [
    {
     "data": {
      "text/plain": [
       "[tensor([224]), tensor([224]), tensor([[0, 1, 2]])]"
      ]
     },
     "execution_count": 81,
     "metadata": {},
     "output_type": "execute_result"
    }
   ],
   "source": [
    "info1 = set1['info']\n",
    "info1"
   ]
  },
  {
   "cell_type": "code",
   "execution_count": 82,
   "metadata": {},
   "outputs": [
    {
     "data": {
      "text/plain": [
       "tensor([[[0., 0., 0.],\n",
       "         [0., 0., 1.],\n",
       "         [0., 0., 2.],\n",
       "         [1., 0., 0.],\n",
       "         [1., 0., 1.],\n",
       "         [1., 0., 2.],\n",
       "         [2., 0., 0.],\n",
       "         [2., 0., 1.],\n",
       "         [2., 0., 2.]]])"
      ]
     },
     "execution_count": 82,
     "metadata": {},
     "output_type": "execute_result"
    }
   ],
   "source": [
    "trip1 = set1['trip']\n",
    "trip1"
   ]
  },
  {
   "cell_type": "code",
   "execution_count": null,
   "metadata": {},
   "outputs": [],
   "source": []
  }
 ],
 "metadata": {
  "kernelspec": {
   "display_name": "Python 2",
   "language": "python",
   "name": "python2"
  },
  "language_info": {
   "codemirror_mode": {
    "name": "ipython",
    "version": 2
   },
   "file_extension": ".py",
   "mimetype": "text/x-python",
   "name": "python",
   "nbconvert_exporter": "python",
   "pygments_lexer": "ipython2",
   "version": "2.7.16"
  }
 },
 "nbformat": 4,
 "nbformat_minor": 2
}
